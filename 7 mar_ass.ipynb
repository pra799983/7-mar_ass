{
 "cells": [
  {
   "cell_type": "code",
   "execution_count": null,
   "id": "c5e95eed-bbad-4ec9-b03f-cc67dce53513",
   "metadata": {},
   "outputs": [],
   "source": [
    "Q1. What are the three measures of central tendency?"
   ]
  },
  {
   "cell_type": "code",
   "execution_count": null,
   "id": "118c61e0-5e7c-472b-8d18-7bcfd6512b43",
   "metadata": {},
   "outputs": [],
   "source": [
    "mean,median,mode"
   ]
  },
  {
   "cell_type": "code",
   "execution_count": null,
   "id": "7581d839-ce7c-4ea6-a00e-dae69ed1bfa2",
   "metadata": {},
   "outputs": [],
   "source": [
    "Q2. What is the difference between the mean, median, and mode? How are they used to measure the\n",
    "central tendency of a dataset?"
   ]
  },
  {
   "cell_type": "code",
   "execution_count": null,
   "id": "a39553aa-ba1d-444f-bc1d-20e525d05c5d",
   "metadata": {},
   "outputs": [],
   "source": [
    "The mean, median, and mode are all measures of central tendency, but they differ in how they capture and represent the typical values in a dataset:\n",
    "\n",
    "Mean: The mean is calculated by summing up all the values in a dataset and dividing the sum by the total number of values. It provides the average \n",
    "value of the dataset. The mean takes into account all the values in the dataset and is sensitive to extreme values or outliers. It is influenced by\n",
    "the magnitude of all the values and can be affected by skewed distributions.\n",
    "\n",
    "Median: The median represents the middle value of a dataset when it is sorted in ascending or descending order. If the dataset has an odd number of \n",
    "values, the median is the middle value. If the dataset has an even number of values, the median is the average of the two middle values. The median\n",
    "is not affected by extreme values or outliers, making it a robust measure of central tendency. It is particularly useful when dealing with skewed\n",
    "distributions or when the data contains outliers.\n",
    "\n",
    "Mode: The mode refers to the value(s) that occur most frequently in a dataset. It is determined by identifying the value(s) with the highest \n",
    "frequency. The mode is useful for identifying the most common outcome or category in categorical or discrete data. Unlike the mean and median, the \n",
    "mode can be applied to both numerical and categorical data. A dataset may have no mode (when no value is repeated), one mode (unimodal), or multiple \n",
    "modes (multimodal)."
   ]
  },
  {
   "cell_type": "code",
   "execution_count": null,
   "id": "d3574697-8508-4076-af75-14e0cadb9380",
   "metadata": {},
   "outputs": [],
   "source": [
    "Q3. Measure the three measures of central tendency for the given height data:\n",
    "\n",
    " [178,177,176,177,178.2,178,175,179,180,175,178.9,176.2,177,172.5,178,176.5]"
   ]
  },
  {
   "cell_type": "code",
   "execution_count": 9,
   "id": "a02c13cc-a598-4439-a0aa-27c437b10283",
   "metadata": {},
   "outputs": [
    {
     "data": {
      "text/plain": [
       "0    177.01875\n",
       "dtype: float64"
      ]
     },
     "execution_count": 9,
     "metadata": {},
     "output_type": "execute_result"
    }
   ],
   "source": [
    "import pandas as pd\n",
    "df = pd.DataFrame( [178,177,176,177,178.2,178,175,179,180,175,178.9,176.2,177,172.5,178,176.5])\n",
    "df.mean()"
   ]
  },
  {
   "cell_type": "code",
   "execution_count": 10,
   "id": "83e06af4-90da-4989-a6ed-a6167ecc28df",
   "metadata": {},
   "outputs": [
    {
     "data": {
      "text/plain": [
       "0    177.0\n",
       "dtype: float64"
      ]
     },
     "execution_count": 10,
     "metadata": {},
     "output_type": "execute_result"
    }
   ],
   "source": [
    "df.median()"
   ]
  },
  {
   "cell_type": "code",
   "execution_count": 11,
   "id": "26fba6fe-e8ee-43f4-9502-45ae6248f935",
   "metadata": {},
   "outputs": [
    {
     "data": {
      "text/html": [
       "<div>\n",
       "<style scoped>\n",
       "    .dataframe tbody tr th:only-of-type {\n",
       "        vertical-align: middle;\n",
       "    }\n",
       "\n",
       "    .dataframe tbody tr th {\n",
       "        vertical-align: top;\n",
       "    }\n",
       "\n",
       "    .dataframe thead th {\n",
       "        text-align: right;\n",
       "    }\n",
       "</style>\n",
       "<table border=\"1\" class=\"dataframe\">\n",
       "  <thead>\n",
       "    <tr style=\"text-align: right;\">\n",
       "      <th></th>\n",
       "      <th>0</th>\n",
       "    </tr>\n",
       "  </thead>\n",
       "  <tbody>\n",
       "    <tr>\n",
       "      <th>0</th>\n",
       "      <td>177.0</td>\n",
       "    </tr>\n",
       "    <tr>\n",
       "      <th>1</th>\n",
       "      <td>178.0</td>\n",
       "    </tr>\n",
       "  </tbody>\n",
       "</table>\n",
       "</div>"
      ],
      "text/plain": [
       "       0\n",
       "0  177.0\n",
       "1  178.0"
      ]
     },
     "execution_count": 11,
     "metadata": {},
     "output_type": "execute_result"
    }
   ],
   "source": [
    "df.mode()"
   ]
  },
  {
   "cell_type": "code",
   "execution_count": 14,
   "id": "b18c5091-362f-4928-aecb-465766efea17",
   "metadata": {},
   "outputs": [
    {
     "name": "stdout",
     "output_type": "stream",
     "text": [
      "The mean of height of students is : \n"
     ]
    },
    {
     "data": {
      "text/plain": [
       "177.01875"
      ]
     },
     "execution_count": 14,
     "metadata": {},
     "output_type": "execute_result"
    }
   ],
   "source": [
    "print('The mean of height of students is : ')\n",
    "height_student = [178,177,176,177,178.2,178,175,179,180,175,178.9,176.2,177,172.5,178,176.5]\n",
    "sum(height_student)/len(height_student)"
   ]
  },
  {
   "cell_type": "code",
   "execution_count": null,
   "id": "ec6d3f62-4d1c-4890-ac77-432ce62dea37",
   "metadata": {},
   "outputs": [],
   "source": [
    "Q4. Find the standard deviation for the given data:\n",
    "\n",
    "[178,177,176,177,178.2,178,175,179,180,175,178.9,176.2,177,172.5,178,176.5]"
   ]
  },
  {
   "cell_type": "code",
   "execution_count": 15,
   "id": "d97af24a-595e-4ab9-9c9a-ba471c0f4c91",
   "metadata": {},
   "outputs": [
    {
     "data": {
      "text/plain": [
       "0    1.847239\n",
       "dtype: float64"
      ]
     },
     "execution_count": 15,
     "metadata": {},
     "output_type": "execute_result"
    }
   ],
   "source": [
    "import pandas as pd\n",
    "df = pd.DataFrame( [178,177,176,177,178.2,178,175,179,180,175,178.9,176.2,177,172.5,178,176.5])\n",
    "df.std()"
   ]
  },
  {
   "cell_type": "code",
   "execution_count": null,
   "id": "8048ed12-c38f-4492-a5f4-83f9a7c0595e",
   "metadata": {},
   "outputs": [],
   "source": [
    "Q5. How are measures of dispersion such as range, variance, and standard deviation used to describe\n",
    "the spread of a dataset? Provide an example."
   ]
  },
  {
   "cell_type": "code",
   "execution_count": null,
   "id": "e9971a00-6363-4fa2-be83-a56afa24be1f",
   "metadata": {},
   "outputs": [],
   "source": [
    "Measures of dispersion, such as range, variance, and standard deviation, provide information about the spread or variability of a dataset. \n",
    "They quantify how the values are dispersed or spread out around the measures of central tendency (such as mean or median). \n",
    "\n",
    "Range:\n",
    "The range is the simplest measure of dispersion and represents the difference between the maximum and minimum values in a dataset. It gives an idea of\n",
    "the total spread of the data. However, it only considers the extreme values and does not take into account the distribution of the data between them.\n",
    "Example: Consider a dataset of exam scores: [75, 80, 85, 90, 95]. The range is calculated as the difference between the maximum (95) and minimum (75) \n",
    "values, resulting in a range of 20. This indicates that the scores vary by 20 points.\n",
    "\n",
    "Variance:\n",
    "Variance measures the average squared deviation of each data point from the mean. It provides a measure of how spread out the values are from the mean. A higher variance indicates greater dispersion in the data.\n",
    "Example: Continuing with the exam scores dataset, the mean of the scores is 85. The variance is calculated by taking the squared difference of each \n",
    "score from the mean, averaging them, and summing them up. The variance in this case is 62.5.\n",
    "\n",
    "Standard Deviation:\n",
    "The standard deviation is the square root of the variance and is often preferred over variance because it is in the same unit as the original data.\n",
    "It represents the average amount of deviation or dispersion of data points from the mean. A higher standard deviation indicates more variability or \n",
    "spread in the data.\n",
    "Example: Using the same exam scores dataset, the standard deviation can be calculated by taking the square root of the variance. In this case, the\n",
    "standard deviation is approximately 7.91."
   ]
  },
  {
   "cell_type": "code",
   "execution_count": null,
   "id": "055a08dc-6a1b-4857-85f1-c7887e979697",
   "metadata": {},
   "outputs": [],
   "source": [
    "Q6. What is a Venn diagram?"
   ]
  },
  {
   "cell_type": "code",
   "execution_count": null,
   "id": "9408e863-cce3-4ab3-a387-d4a0bc40fb95",
   "metadata": {},
   "outputs": [],
   "source": [
    "A Venn diagram is a visual representation of the relationships between different sets or groups of items. It uses overlapping circles or other shapes \n",
    "o show the commonalities and differences among the sets."
   ]
  },
  {
   "cell_type": "code",
   "execution_count": null,
   "id": "d06d22fa-6635-42b9-8adc-f193612b15a6",
   "metadata": {},
   "outputs": [],
   "source": [
    "Q7. For the two given sets A = (2,3,4,5,6,7) & B = (0,2,6,8,10). Find:\n",
    "\n",
    "(i) \tA B\n",
    "\n",
    "(ii)\tA ⋃ B"
   ]
  },
  {
   "cell_type": "code",
   "execution_count": 18,
   "id": "433f2f0a-8dff-46ca-a43f-bc0dc7df07d4",
   "metadata": {},
   "outputs": [
    {
     "name": "stdout",
     "output_type": "stream",
     "text": [
      "The intersection of A & B is : {2, 6}\n"
     ]
    }
   ],
   "source": [
    "A = {2,3,4,5,6,7}\n",
    "B = {0,2,6,8,10}\n",
    "intersection = A.intersection(B)\n",
    "print('The intersection of A & B is :', intersection)\n"
   ]
  },
  {
   "cell_type": "code",
   "execution_count": null,
   "id": "458f9d33-d628-4493-bc10-fda582d60293",
   "metadata": {},
   "outputs": [],
   "source": [
    "Q8. What do you understand about skewness in data?"
   ]
  },
  {
   "cell_type": "code",
   "execution_count": null,
   "id": "702d9606-1e9c-45b6-acff-bd491a44be03",
   "metadata": {},
   "outputs": [],
   "source": [
    "Skewness in data refers to the measure of the asymmetry or lack of symmetry in the distribution of values. It provides information about the shape of\n",
    "the distribution and how it deviates from a symmetric distribution, such as a normal or bell-shaped distribution.\n",
    "\n",
    "In a symmetrical distribution, the data points are evenly distributed around the mean, and the distribution is balanced. However, in a skewed \n",
    "distribution, the data points tend to cluster more on one side of the mean than the other, resulting in an imbalance.\n",
    "\n",
    "There are three types of skewness:\n",
    "\n",
    "Positive Skewness (Right Skewness): In a positively skewed distribution, the tail of the distribution extends more towards the right side. This means\n",
    "that there are more values concentrated on the left side of the distribution, and the right tail is longer. The mean is typically greater than the \n",
    "median in a positively skewed distribution.\n",
    "\n",
    "Negative Skewness (Left Skewness): In a negatively skewed distribution, the tail of the distribution extends more towards the left side. This means\n",
    "that there are more values concentrated on the right side of the distribution, and the left tail is longer. The mean is typically smaller than the \n",
    "median in a negatively skewed distribution.\n",
    "\n",
    "Zero Skewness: A distribution is considered to have zero skewness when it is perfectly symmetrical, with equal frequencies of values on both sides\n",
    "of the mean. In this case, the mean and median are equal."
   ]
  },
  {
   "cell_type": "code",
   "execution_count": null,
   "id": "e5ca6a88-2474-4e03-a3b7-729d43b2eee0",
   "metadata": {},
   "outputs": [],
   "source": [
    "Q9. If a data is right skewed then what will be the position of median with respect to mean?\n",
    "\n",
    "mean>=median"
   ]
  },
  {
   "cell_type": "code",
   "execution_count": null,
   "id": "6efdbe05-9b40-4921-a343-b5b535e8160e",
   "metadata": {},
   "outputs": [],
   "source": [
    "Q10. Explain the difference between covariance and correlation. How are these measures used in\n",
    "statistical analysis?"
   ]
  },
  {
   "cell_type": "code",
   "execution_count": null,
   "id": "8faf3e7c-d7dc-49b2-b179-bb00efdc165a",
   "metadata": {},
   "outputs": [],
   "source": [
    "Covariance and correlation are both measures that quantify the relationship between two variables, but they differ in terms of their\n",
    "interpretation and the scale of measurement.\n",
    "\n",
    "Covariance:\n",
    "Covariance measures the extent to which two variables vary together. It indicates the direction and strength of the linear relationship\n",
    "between two variables. A positive covariance indicates a positive relationship, meaning that as one variable increases, the other tends to \n",
    "increase as well. A negative covariance indicates a negative relationship, indicating that as one variable increases, the other tends to \n",
    "decrease. However, covariance does not provide a standardized measure, and its value depends on the units of the variables. Therefore, it \n",
    "is challenging to interpret the magnitude of covariance alone.\n",
    "\n",
    "Correlation:\n",
    "Correlation, on the other hand, is a standardized measure that provides a more interpretable assessment of the relationship between two\n",
    "variables. It ranges between -1 and 1, where a correlation of -1 represents a perfect negative linear relationship, a correlation of 1\n",
    "represents a perfect positive linear relationship, and a correlation of 0 indicates no linear relationship between the variables. \n",
    "Correlation is independent of the scale of measurement and is therefore more suitable for comparing and interpreting the strength and \n",
    "direction of relationships across different datasets.\n",
    "\n",
    "In statistical analysis, covariance and correlation are used to:\n",
    "\n",
    "Relationship Assessment: Both measures help to determine the relationship between two variables. Covariance provides a general idea of the \n",
    "direction (positive or negative) and strength of the relationship, while correlation provides a more standardized and interpretable measure \n",
    "of the linear relationship.\n",
    "\n",
    "Variable Selection: Covariance and correlation can be used to assess the degree of association between variables and aid in the selection\n",
    "of variables for further analysis or modeling. Variables with strong positive or negative correlations may be considered for inclusion in \n",
    "models, while variables with weak or no correlation may be excluded.\n",
    "\n",
    "Multivariate Analysis: Covariance and correlation matrices are often used in multivariate analysis techniques, such as factor analysis and \n",
    "principal component analysis. These techniques involve analyzing relationships among multiple variables simultaneously and require\n",
    "covariance or correlation matrices as input.\n",
    "\n",
    "Data Cleaning and Outlier Detection: Covariance and correlation can help identify outliers or unusual observations in a dataset. Outliers \n",
    "may have a significant impact on the relationship between variables and can be detected by examining extreme values in the covariance or\n",
    "correlation matrices"
   ]
  },
  {
   "cell_type": "code",
   "execution_count": null,
   "id": "3117edd1-5358-491e-a14b-d0d05cb554b8",
   "metadata": {},
   "outputs": [],
   "source": [
    "Q11. What is the formula for calculating the sample mean? Provide an example calculation for a\n",
    "dataset."
   ]
  },
  {
   "cell_type": "code",
   "execution_count": 2,
   "id": "f25a9641-f4c2-4ac3-83e3-ce82a18df9c9",
   "metadata": {},
   "outputs": [
    {
     "name": "stdout",
     "output_type": "stream",
     "text": [
      "The mean of height of students is : \n"
     ]
    },
    {
     "data": {
      "text/plain": [
       "177.01875"
      ]
     },
     "execution_count": 2,
     "metadata": {},
     "output_type": "execute_result"
    }
   ],
   "source": [
    "print('The mean of height of students is : ')\n",
    "sample_mean = [178,177,176,177,178.2,178,175,179,180,175,178.9,176.2,177,172.5,178,176.5]\n",
    "sum(sample_mean)/len(sample_mean)"
   ]
  },
  {
   "cell_type": "code",
   "execution_count": null,
   "id": "028d9353-b355-45f4-acb3-8a8e84472c45",
   "metadata": {},
   "outputs": [],
   "source": [
    "Q12. For a normal distribution data what is the relationship between its measure of central tendency?"
   ]
  },
  {
   "cell_type": "code",
   "execution_count": null,
   "id": "f69904b5-d761-4814-a14f-a709b818a447",
   "metadata": {},
   "outputs": [],
   "source": [
    "\n",
    "For a normal distribution, the three measures of central tendency—mean, median, and mode—are all equal and coincide at the center of the \n",
    "distribution. In a symmetrical normal distribution, the mean, median, and mode all have the same value.\n",
    "\n",
    "This relationship occurs because the normal distribution is symmetric around its mean. The mean represents the average or center point of\n",
    "the distribution. The median, which is the middle value when the data is sorted, is also at the center of the distribution. \n",
    "The mode, which represents the most frequently occurring value, is also at the peak of the symmetric distribution.\n",
    "\n",
    "In summary, for a normal distribution:\n",
    "\n",
    "The mean, median, and mode are equal.\n",
    "They all have the same value, representing the center of the distribution.\n",
    "The distribution is symmetrical, with equal probabilities on both sides of the mean.\n",
    "The relationship between the measures of central tendency reflects the symmetrical nature of the normal distribution\n",
    "\n"
   ]
  },
  {
   "cell_type": "code",
   "execution_count": null,
   "id": "6df0d14d-2d79-4016-8af1-b6b3fb174818",
   "metadata": {},
   "outputs": [],
   "source": [
    "Q13. How is covariance different from correlation?"
   ]
  },
  {
   "cell_type": "code",
   "execution_count": null,
   "id": "accf26f1-6b8c-406a-afb8-32fb0ebd1610",
   "metadata": {},
   "outputs": [],
   "source": [
    "Covariance and correlation are both measures that quantify the relationship between two variables, but they differ in several key aspects:\n",
    "\n",
    "Interpretation:\n",
    "Covariance: Covariance measures the extent to which two variables vary together. It indicates the direction and strength of the linear \n",
    "relationship between variables. However, the magnitude of covariance alone is not easily interpretable since it depends on the units of \n",
    "the variables.\n",
    "Correlation: Correlation is a standardized measure that provides a more interpretable assessment of the relationship between variables. \n",
    "It ranges between -1 and 1, where a correlation of -1 represents a perfect negative linear relationship, a correlation of 1 represents a \n",
    "perfect positive linear relationship, and a correlation of 0 indicates no linear relationship. Correlation is independent of the scale of \n",
    "measurement and is more suitable for comparing and interpreting relationships across different datasets.\n",
    "Scale Dependence:\n",
    "Covariance: Covariance is scale-dependent, meaning it depends on the units of the variables being measured. The magnitude of covariance \n",
    "can be influenced by the scale of the variables, which makes it difficult to compare covariances across different datasets.\n",
    "Correlation: Correlation is scale-independent. It is calculated by standardizing the covariance, dividing it by the product of the \n",
    "standard deviations of the variables. This standardization allows for comparing and interpreting correlations between different datasets \n",
    "and variables.\n",
    "Range of Values:\n",
    "Covariance: Covariance can take any real value, positive or negative, depending on the relationship between variables. A positive \n",
    "covariance indicates a positive relationship, while a negative covariance indicates a negative relationship.\n",
    "Correlation: Correlation ranges between -1 and 1. A correlation of -1 represents a perfect negative linear relationship, a correlation \n",
    "of 1 represents a perfect positive linear relationship, and a correlation of 0 indicates no linear relationship.\n",
    "Interpretation of Strength:\n",
    "Covariance: The magnitude of covariance does not have a standardized interpretation. Larger magnitudes of covariance indicate a stronger\n",
    "linear relationship, but it is difficult to assess the strength of the relationship solely based on the covariance value.\n",
    "Correlation: The magnitude of correlation provides an interpretable measure of the strength of the linear relationship. Values close to\n",
    "-1 or 1 indicate a strong linear relationship, while values close to 0 indicate a weak or no linear relationship."
   ]
  },
  {
   "cell_type": "code",
   "execution_count": null,
   "id": "def3ac03-6add-4b97-9e5c-27d19566571b",
   "metadata": {},
   "outputs": [],
   "source": [
    "Q14. How do outliers affect measures of central tendency and dispersion? Provide an example."
   ]
  },
  {
   "cell_type": "code",
   "execution_count": 3,
   "id": "e84dc23b-9e90-41e6-8a26-287f674cfc6d",
   "metadata": {},
   "outputs": [
    {
     "data": {
      "text/plain": [
       "0    31.307692\n",
       "dtype: float64"
      ]
     },
     "execution_count": 3,
     "metadata": {},
     "output_type": "execute_result"
    }
   ],
   "source": [
    "import pandas as pd\n",
    "df = pd.DataFrame( [12,25,12,13,14,15,16,17,18,20,22,23,200])\n",
    "df.mean()"
   ]
  },
  {
   "cell_type": "code",
   "execution_count": 4,
   "id": "7edb7326-d47c-431d-a9c3-e860ee66f2f1",
   "metadata": {},
   "outputs": [
    {
     "data": {
      "text/plain": [
       "0    17.0\n",
       "dtype: float64"
      ]
     },
     "execution_count": 4,
     "metadata": {},
     "output_type": "execute_result"
    }
   ],
   "source": [
    "df.median()"
   ]
  },
  {
   "cell_type": "code",
   "execution_count": null,
   "id": "1ac4cec5-792a-4085-a91c-2501fd8fe4a7",
   "metadata": {},
   "outputs": [],
   "source": [
    "df.mode"
   ]
  }
 ],
 "metadata": {
  "kernelspec": {
   "display_name": "Python 3 (ipykernel)",
   "language": "python",
   "name": "python3"
  },
  "language_info": {
   "codemirror_mode": {
    "name": "ipython",
    "version": 3
   },
   "file_extension": ".py",
   "mimetype": "text/x-python",
   "name": "python",
   "nbconvert_exporter": "python",
   "pygments_lexer": "ipython3",
   "version": "3.10.8"
  }
 },
 "nbformat": 4,
 "nbformat_minor": 5
}
